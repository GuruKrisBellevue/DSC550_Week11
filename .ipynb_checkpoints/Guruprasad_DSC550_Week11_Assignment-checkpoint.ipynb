{
 "cells": [
  {
   "cell_type": "markdown",
   "id": "bb97640d",
   "metadata": {
    "toc": true
   },
   "source": [
    "<h1>Table of Contents<span class=\"tocSkip\"></span></h1>\n",
    "<div class=\"toc\"><ul class=\"toc-item\"><li><span><a href=\"#Exercise:-Building-a-CNN-Image-Classifier\" data-toc-modified-id=\"Exercise:-Building-a-CNN-Image-Classifier-1\">Exercise: Building a CNN Image Classifier</a></span><ul class=\"toc-item\"><li><span><a href=\"#11.1.-Load-the-MNIST-data-set.\" data-toc-modified-id=\"11.1.-Load-the-MNIST-data-set.-1.1\">11.1. Load the MNIST data set.</a></span></li><li><span><a href=\"#11.2.-Display-the-first-five-images-in-the-training-data-set.-Compare-these-to-the-first-five-training-labels.\" data-toc-modified-id=\"11.2.-Display-the-first-five-images-in-the-training-data-set.-Compare-these-to-the-first-five-training-labels.-1.2\">11.2. Display the first five images in the training data set. Compare these to the first five training labels.</a></span></li><li><span><a href=\"#11.3.-Build-and-train-a-Keras-CNN-classifier-on-the-MNIST-training-set.\" data-toc-modified-id=\"11.3.-Build-and-train-a-Keras-CNN-classifier-on-the-MNIST-training-set.-1.3\">11.3. Build and train a Keras CNN classifier on the MNIST training set.</a></span></li><li><span><a href=\"#11.4.-Report-the-test-accuracy-of-your-model.\" data-toc-modified-id=\"11.4.-Report-the-test-accuracy-of-your-model.-1.4\">11.4. Report the test accuracy of your model.</a></span></li><li><span><a href=\"#11.5.-Display-a-confusion-matrix-on-the-test-set-classifications.\" data-toc-modified-id=\"11.5.-Display-a-confusion-matrix-on-the-test-set-classifications.-1.5\">11.5. Display a confusion matrix on the test set classifications.</a></span></li><li><span><a href=\"#11.6.-Summarize-your-results.\" data-toc-modified-id=\"11.6.-Summarize-your-results.-1.6\">11.6. Summarize your results.</a></span><ul class=\"toc-item\"><li><ul class=\"toc-item\"><li><span><a href=\"#Summary-of-the-steps-to-build-the-model:-The-MNIST-dataset-downloaded-from-keras-contains-70000-images-of-hand-written-digits-from-0-through-9.--Using-the-standard-split,-60000-images-were-used-for-training-and-10000-for-testing.-The-data-was-first-preprocessed-by-scaling-the-data-so-that-the-values-are-between-0-and-1-to-avoid-performance-issues-during-training-the-model.-Then-the-train-and-test-labels-were-converted-to-binary-values-using-One-hot-encoding.-While-building-the-model,-first-a-convolution-layer-was-added-with-a-3x3-window.-Then-a-max-pooling-layer-of-2x2-was-added.-The-same-step-was-repeated-again-before-the-data-was-flattened-to-convert-the-convolutionary-input-into-a-format-that-is-fed-to-fully-connected-layer.-Finally-a-fully-connected-and-output-layer-were-added.-As-the-output-has-10-labels,-softmax-activation-function-was-used.\" data-toc-modified-id=\"Summary-of-the-steps-to-build-the-model:-The-MNIST-dataset-downloaded-from-keras-contains-70000-images-of-hand-written-digits-from-0-through-9.--Using-the-standard-split,-60000-images-were-used-for-training-and-10000-for-testing.-The-data-was-first-preprocessed-by-scaling-the-data-so-that-the-values-are-between-0-and-1-to-avoid-performance-issues-during-training-the-model.-Then-the-train-and-test-labels-were-converted-to-binary-values-using-One-hot-encoding.-While-building-the-model,-first-a-convolution-layer-was-added-with-a-3x3-window.-Then-a-max-pooling-layer-of-2x2-was-added.-The-same-step-was-repeated-again-before-the-data-was-flattened-to-convert-the-convolutionary-input-into-a-format-that-is-fed-to-fully-connected-layer.-Finally-a-fully-connected-and-output-layer-were-added.-As-the-output-has-10-labels,-softmax-activation-function-was-used.-1.6.0.1\"><strong><em>Summary of the steps to build the model:</em></strong> The MNIST dataset downloaded from keras contains 70000 images of hand written digits from 0 through 9.  Using the standard split, 60000 images were used for training and 10000 for testing. The data was first preprocessed by scaling the data so that the values are between 0 and 1 to avoid performance issues during training the model. Then the train and test labels were converted to binary values using One-hot encoding. While building the model, first a convolution layer was added with a 3x3 window. Then a max pooling layer of 2x2 was added. The same step was repeated again before the data was flattened to convert the convolutionary input into a format that is fed to fully connected layer. Finally a fully connected and output layer were added. As the output has 10 labels, softmax activation function was used.</a></span></li><li><span><a href=\"#The-model-was-then-compiled-using-categorical-crossentropy-as-Loss-function,-accuracy-for-evaluating-the-metrics-and-adam-as-the-optimizer-function.-It-took-about-~-2-minutes-for-the-model-to-train-the-data.\" data-toc-modified-id=\"The-model-was-then-compiled-using-categorical-crossentropy-as-Loss-function,-accuracy-for-evaluating-the-metrics-and-adam-as-the-optimizer-function.-It-took-about-~-2-minutes-for-the-model-to-train-the-data.-1.6.0.2\">The model was then compiled using categorical crossentropy as Loss function, accuracy for evaluating the metrics and adam as the optimizer function. It took about ~ 2 minutes for the model to train the data.</a></span></li><li><span><a href=\"#Accuracy-and-Confusion-Matrix:-The-test-results-indicates-that-the-model-has-an-accuracy-of-98.7%-on-the-test-dataset-which-is-pretty-close-to-perfection.--The-results-are-also-evident-from-the-confusion-matrix-where-the-predicted-errors-were-less.\" data-toc-modified-id=\"Accuracy-and-Confusion-Matrix:-The-test-results-indicates-that-the-model-has-an-accuracy-of-98.7%-on-the-test-dataset-which-is-pretty-close-to-perfection.--The-results-are-also-evident-from-the-confusion-matrix-where-the-predicted-errors-were-less.-1.6.0.3\"><strong><em>Accuracy and Confusion Matrix:</em></strong> The test results indicates that the model has an accuracy of 98.7% on the test dataset which is pretty close to perfection.  The results are also evident from the confusion matrix where the predicted errors were less.</a></span></li></ul></li></ul></li></ul></li></ul></div>"
   ]
  },
  {
   "cell_type": "markdown",
   "id": "1ca6c06b",
   "metadata": {},
   "source": [
    "#  DSC550 Week11 - Assignment"
   ]
  },
  {
   "cell_type": "markdown",
   "id": "227194a1",
   "metadata": {},
   "source": [
    "# Guruprasad Velikadu Krishnamoorthy"
   ]
  },
  {
   "cell_type": "code",
   "execution_count": 1,
   "id": "4a9713bd",
   "metadata": {},
   "outputs": [],
   "source": [
    "# Importing the required libraries\n",
    "import numpy as np\n",
    "import tensorflow as tf\n",
    "from tensorflow import keras\n",
    "from tensorflow.keras import datasets, layers, models\n",
    "from keras.datasets import mnist\n",
    "from keras.models import Sequential\n",
    "from keras.layers import Dense, Dropout, Flatten\n",
    "from keras.layers import Conv2D, MaxPooling2D\n",
    "from keras import backend as K\n",
    "from keras import layers\n",
    "import matplotlib.pyplot as plt\n",
    "import seaborn as sns\n",
    "from sklearn.model_selection import train_test_split\n",
    "from sklearn.metrics import confusion_matrix"
   ]
  },
  {
   "cell_type": "markdown",
   "id": "3656110c",
   "metadata": {},
   "source": [
    "## Exercise: Building a CNN Image Classifier"
   ]
  },
  {
   "cell_type": "markdown",
   "id": "ebbd54c8",
   "metadata": {},
   "source": [
    "### 11.1. Load the MNIST data set."
   ]
  },
  {
   "cell_type": "code",
   "execution_count": 2,
   "id": "c9f7f296",
   "metadata": {},
   "outputs": [],
   "source": [
    "# Importing the Mnist dataset from Keras\n",
    "(train_images, train_labels), (test_images, test_labels)= keras.datasets.mnist.load_data()"
   ]
  },
  {
   "cell_type": "code",
   "execution_count": 3,
   "id": "15fdb940",
   "metadata": {},
   "outputs": [
    {
     "data": {
      "text/plain": [
       "(60000, 28, 28)"
      ]
     },
     "execution_count": 3,
     "metadata": {},
     "output_type": "execute_result"
    }
   ],
   "source": [
    "# Printing the shape of the trainset\n",
    "train_images.shape"
   ]
  },
  {
   "cell_type": "code",
   "execution_count": 4,
   "id": "c5f1b9be",
   "metadata": {},
   "outputs": [
    {
     "data": {
      "text/plain": [
       "(10000, 28, 28)"
      ]
     },
     "execution_count": 4,
     "metadata": {},
     "output_type": "execute_result"
    }
   ],
   "source": [
    "# Printing the shape of the test dataset\n",
    "test_images.shape"
   ]
  },
  {
   "cell_type": "code",
   "execution_count": 5,
   "id": "abbe860b",
   "metadata": {},
   "outputs": [],
   "source": [
    "# Reshaping the dataset and scaling the dataset\n",
    "train_images = train_images.reshape((60000,28,28,1))\n",
    "# Scaling the dataset by diving by 255 as the data represents pixel values\n",
    "train_images = train_images.astype('float32')/255\n",
    "test_images = test_images.reshape((10000,28,28,1))\n",
    "test_images = test_images.astype('float32')/255\n"
   ]
  },
  {
   "cell_type": "markdown",
   "id": "1b44b118",
   "metadata": {},
   "source": [
    "### 11.2. Display the first five images in the training data set. Compare these to the first five training labels."
   ]
  },
  {
   "cell_type": "code",
   "execution_count": 6,
   "id": "1d337c7b",
   "metadata": {},
   "outputs": [],
   "source": [
    "# Creating labels for the digits\n",
    "classes=[\"zero\",\"one\",\"two\",\"three\",\"four\",\"five\",\"six\",\"seven\",\"eight\",\"nine\"]"
   ]
  },
  {
   "cell_type": "code",
   "execution_count": 7,
   "id": "16433c3b",
   "metadata": {},
   "outputs": [],
   "source": [
    "def plot_sample(image,label, index):\n",
    "    \"\"\"\n",
    "    This function takes the Image and the Label as inputs along with the index values and shows the image\n",
    "    as output. The label value is also printing in the output.\n",
    "    \"\"\"\n",
    "    plt.figure(figsize = (30,2))\n",
    "    # Showing the Image\n",
    "    plt.imshow(image[index])\n",
    "    # Printing the Label value\n",
    "    plt.xlabel(classes[label[index]])\n",
    "    plt.show()"
   ]
  },
  {
   "cell_type": "code",
   "execution_count": 8,
   "id": "f7864cf3",
   "metadata": {},
   "outputs": [
    {
     "data": {
      "image/png": "[encoded data removed]",
      "text/plain": [
       "<Figure size 3000x200 with 1 Axes>"
      ]
     },
     "metadata": {},
     "output_type": "display_data"
    },
    {
     "data": {
      "image/png": "[encoded data removed]",
      "text/plain": [
       "<Figure size 3000x200 with 1 Axes>"
      ]
     },
     "metadata": {},
     "output_type": "display_data"
    },
    {
     "data": {
      "image/png": "[encoded data removed]",
      "text/plain": [
       "<Figure size 3000x200 with 1 Axes>"
      ]
     },
     "metadata": {},
     "output_type": "display_data"
    },
    {
     "data": {
      "image/png": "[encoded data removed]",
      "text/plain": [
       "<Figure size 3000x200 with 1 Axes>"
      ]
     },
     "metadata": {},
     "output_type": "display_data"
    },
    {
     "data": {
      "image/png": "[encoded data removed]",
      "text/plain": [
       "<Figure size 3000x200 with 1 Axes>"
      ]
     },
     "metadata": {},
     "output_type": "display_data"
    }
   ],
   "source": [
    "# Displaying the first 5 images in the training dataset\n",
    "for index in range(5):\n",
    "    plot_sample(train_images, train_labels, index)"
   ]
  },
  {
   "cell_type": "code",
   "execution_count": 9,
   "id": "e64defef",
   "metadata": {},
   "outputs": [
    {
     "data": {
      "text/plain": [
       "array([5, 0, 4, 1, 9], dtype=uint8)"
      ]
     },
     "execution_count": 9,
     "metadata": {},
     "output_type": "execute_result"
    }
   ],
   "source": [
    "# Printing the first 5 labels\n",
    "train_labels[:5]"
   ]
  },
  {
   "cell_type": "markdown",
   "id": "2f56d990",
   "metadata": {},
   "source": [
    "### 11.3. Build and train a Keras CNN classifier on the MNIST training set."
   ]
  },
  {
   "cell_type": "code",
   "execution_count": 10,
   "id": "65969275",
   "metadata": {},
   "outputs": [],
   "source": [
    "# Converting the Target to Categorical values\n",
    "from keras.utils import to_categorical\n",
    "# Performing a one-hot encoding on the labels\n",
    "train_labels = to_categorical(train_labels)\n",
    "test_labels = to_categorical(test_labels)"
   ]
  },
  {
   "cell_type": "code",
   "execution_count": 11,
   "id": "832e8e7e",
   "metadata": {},
   "outputs": [],
   "source": [
    "# Starting to build a neural network\n",
    "models = Sequential()"
   ]
  },
  {
   "cell_type": "code",
   "execution_count": 12,
   "id": "3d15213e",
   "metadata": {},
   "outputs": [],
   "source": [
    "# Adding a convolution layer with 32 filters, a 3x3 window and Relu activation function\n",
    "models.add(Conv2D(filters=32,kernel_size=(3, 3),input_shape=(28,28,1),activation='relu'))"
   ]
  },
  {
   "cell_type": "code",
   "execution_count": 13,
   "id": "b6a82a81",
   "metadata": {},
   "outputs": [],
   "source": [
    "# Add max pooling layer with a 2x2 window\n",
    "models.add(MaxPooling2D(pool_size=(2, 2)))"
   ]
  },
  {
   "cell_type": "code",
   "execution_count": 14,
   "id": "442c1a5a",
   "metadata": {},
   "outputs": [],
   "source": [
    "# Adding a convolution layer with 64 filters, a 3x3 window and Relu activation function\n",
    "models.add(Conv2D(filters=64,kernel_size=(3, 3),activation='relu'))\n",
    "# Add max pooling layer with a 2x2 window\n",
    "models.add(MaxPooling2D(pool_size=(2, 2)))"
   ]
  },
  {
   "cell_type": "code",
   "execution_count": 15,
   "id": "107c5f08",
   "metadata": {},
   "outputs": [],
   "source": [
    "# Adding a layer to flatten the input data\n",
    "models.add(Flatten())\n",
    "# Adding a layer of 64 units with Relu activation function\n",
    "models.add(Dense(64, activation='relu'))\n",
    "# Add fully connected layer with a softmax activation function\n",
    "models.add(Dense(10, activation='softmax'))"
   ]
  },
  {
   "cell_type": "code",
   "execution_count": 16,
   "id": "be4dac12",
   "metadata": {},
   "outputs": [
    {
     "name": "stdout",
     "output_type": "stream",
     "text": [
      "Model: \"sequential\"\n",
      "_________________________________________________________________\n",
      " Layer (type)                Output Shape              Param #   \n",
      "=================================================================\n",
      " conv2d (Conv2D)             (None, 26, 26, 32)        320       \n",
      "                                                                 \n",
      " max_pooling2d (MaxPooling2  (None, 13, 13, 32)        0         \n",
      " D)                                                              \n",
      "                                                                 \n",
      " conv2d_1 (Conv2D)           (None, 11, 11, 64)        18496     \n",
      "                                                                 \n",
      " max_pooling2d_1 (MaxPoolin  (None, 5, 5, 64)          0         \n",
      " g2D)                                                            \n",
      "                                                                 \n",
      " flatten (Flatten)           (None, 1600)              0         \n",
      "                                                                 \n",
      " dense (Dense)               (None, 64)                102464    \n",
      "                                                                 \n",
      " dense_1 (Dense)             (None, 10)                650       \n",
      "                                                                 \n",
      "=================================================================\n",
      "Total params: 121930 (476.29 KB)\n",
      "Trainable params: 121930 (476.29 KB)\n",
      "Non-trainable params: 0 (0.00 Byte)\n",
      "_________________________________________________________________\n"
     ]
    }
   ],
   "source": [
    "# Printing the summary of the Model\n",
    "models.summary()"
   ]
  },
  {
   "cell_type": "code",
   "execution_count": 17,
   "id": "a3741e90",
   "metadata": {},
   "outputs": [],
   "source": [
    "# Compiling the Neural network with categorical_crossentropy as loss function, optimizer as adam\n",
    "models.compile(loss=\"categorical_crossentropy\", optimizer=\"adam\", metrics=[\"accuracy\"])"
   ]
  },
  {
   "cell_type": "code",
   "execution_count": 18,
   "id": "3c1d8a4b",
   "metadata": {},
   "outputs": [],
   "source": [
    "# Training the neural network\n",
    "import time\n",
    "# Calculating the start and end times taken to train the model\n",
    "start = time.time()\n",
    "# Training the model with epoch of 10 and batch size of 1000\n",
    "mnist_history=models.fit(train_images, train_labels, epochs=10,verbose=0, batch_size=1000,validation_data=(test_images, test_labels)) \n",
    "end = time.time()"
   ]
  },
  {
   "cell_type": "code",
   "execution_count": 19,
   "id": "d9d06874",
   "metadata": {},
   "outputs": [
    {
     "name": "stdout",
     "output_type": "stream",
     "text": [
      "The Model took 129.94025301933289 seconds to train!\n"
     ]
    }
   ],
   "source": [
    "print(f\"The Model took {end - start} seconds to train!\")"
   ]
  },
  {
   "cell_type": "markdown",
   "id": "6c203ae5",
   "metadata": {},
   "source": [
    "### 11.4. Report the test accuracy of your model."
   ]
  },
  {
   "cell_type": "code",
   "execution_count": 20,
   "id": "5474546f",
   "metadata": {},
   "outputs": [],
   "source": [
    "# Calculating the test and training accuracy\n",
    "training_accuracy = mnist_history.history[\"accuracy\"]\n",
    "test_accuracy = mnist_history.history[\"val_accuracy\"]"
   ]
  },
  {
   "cell_type": "code",
   "execution_count": 21,
   "id": "11e379c3",
   "metadata": {},
   "outputs": [
    {
     "data": {
      "text/plain": [
       "[0.7895500063896179,\n",
       " 0.9545999765396118,\n",
       " 0.9699666500091553,\n",
       " 0.9768999814987183,\n",
       " 0.9802166819572449,\n",
       " 0.98294997215271,\n",
       " 0.9851666688919067,\n",
       " 0.9855499863624573,\n",
       " 0.9876499772071838,\n",
       " 0.9891166687011719]"
      ]
     },
     "execution_count": 21,
     "metadata": {},
     "output_type": "execute_result"
    }
   ],
   "source": [
    "training_accuracy"
   ]
  },
  {
   "cell_type": "code",
   "execution_count": 22,
   "id": "e1c7ed16",
   "metadata": {},
   "outputs": [
    {
     "data": {
      "text/plain": [
       "[0.9431999921798706,\n",
       " 0.9700999855995178,\n",
       " 0.9757999777793884,\n",
       " 0.9793999791145325,\n",
       " 0.9835000038146973,\n",
       " 0.984000027179718,\n",
       " 0.9855999946594238,\n",
       " 0.9865999817848206,\n",
       " 0.9865999817848206,\n",
       " 0.9878000020980835]"
      ]
     },
     "execution_count": 22,
     "metadata": {},
     "output_type": "execute_result"
    }
   ],
   "source": [
    "test_accuracy"
   ]
  },
  {
   "cell_type": "code",
   "execution_count": 23,
   "id": "e3d2249c",
   "metadata": {},
   "outputs": [
    {
     "name": "stdout",
     "output_type": "stream",
     "text": [
      "313/313 [==============================] - 2s 6ms/step - loss: 0.0365 - accuracy: 0.9878\n"
     ]
    }
   ],
   "source": [
    "# Evaluating the model to calculate the test accuracy \n",
    "eval_results=models.evaluate(test_images, test_labels)"
   ]
  },
  {
   "cell_type": "code",
   "execution_count": 24,
   "id": "b230c049",
   "metadata": {},
   "outputs": [
    {
     "name": "stdout",
     "output_type": "stream",
     "text": [
      "The test accuracy of the model is 0.9878000020980835\n"
     ]
    }
   ],
   "source": [
    "test_accuracy=eval_results[1]\n",
    "print(f\"The test accuracy of the model is {test_accuracy}\")"
   ]
  },
  {
   "cell_type": "markdown",
   "id": "3269db27",
   "metadata": {},
   "source": [
    "### 11.5. Display a confusion matrix on the test set classifications."
   ]
  },
  {
   "cell_type": "code",
   "execution_count": 25,
   "id": "740ff894",
   "metadata": {},
   "outputs": [
    {
     "name": "stdout",
     "output_type": "stream",
     "text": [
      "313/313 [==============================] - 2s 7ms/step\n"
     ]
    }
   ],
   "source": [
    "# Using Predict function to predict the test images\n",
    "label_pred = models.predict(test_images)\n",
    "# Using the argmax fucntion as the label is one hot encoded\n",
    "label_pred_classes = np.argmax(label_pred, 1)"
   ]
  },
  {
   "cell_type": "code",
   "execution_count": 26,
   "id": "d80d5597",
   "metadata": {},
   "outputs": [
    {
     "data": {
      "text/plain": [
       "array([7, 2, 1, 0, 4], dtype=int64)"
      ]
     },
     "execution_count": 26,
     "metadata": {},
     "output_type": "execute_result"
    }
   ],
   "source": [
    "# Printing the top 5 values of the predicted values\n",
    "label_pred_classes[:5]"
   ]
  },
  {
   "cell_type": "code",
   "execution_count": 27,
   "id": "b33d8879",
   "metadata": {},
   "outputs": [],
   "source": [
    "# Calculating the true labels by using the argmax function from test label\n",
    "label_true = np.argmax(test_labels,axis = 1) "
   ]
  },
  {
   "cell_type": "code",
   "execution_count": 28,
   "id": "2d2debb7",
   "metadata": {},
   "outputs": [
    {
     "data": {
      "text/plain": [
       "array([7, 2, 1, 0, 4], dtype=int64)"
      ]
     },
     "execution_count": 28,
     "metadata": {},
     "output_type": "execute_result"
    }
   ],
   "source": [
    "label_true[:5]"
   ]
  },
  {
   "cell_type": "code",
   "execution_count": 29,
   "id": "d7a66ca9",
   "metadata": {},
   "outputs": [
    {
     "data": {
      "text/plain": [
       "array([[ 976,    0,    0,    0,    0,    0,    1,    1,    2,    0],\n",
       "       [   0, 1133,    1,    0,    0,    0,    0,    1,    0,    0],\n",
       "       [   3,    3, 1019,    0,    1,    0,    0,    4,    2,    0],\n",
       "       [   0,    0,    1,  994,    0,    5,    0,    5,    4,    1],\n",
       "       [   1,    0,    0,    0,  970,    0,    0,    0,    2,    9],\n",
       "       [   1,    0,    0,    5,    0,  881,    1,    1,    1,    2],\n",
       "       [   4,    2,    0,    0,    2,    6,  942,    0,    2,    0],\n",
       "       [   0,    1,    7,    0,    0,    0,    0, 1015,    1,    4],\n",
       "       [   5,    0,    3,    2,    2,    1,    0,    2,  952,    7],\n",
       "       [   4,    3,    0,    1,    1,    3,    0,    1,    0,  996]],\n",
       "      dtype=int64)"
      ]
     },
     "execution_count": 29,
     "metadata": {},
     "output_type": "execute_result"
    }
   ],
   "source": [
    "# compute the confusion matrix \n",
    "confusion_mtx = confusion_matrix(label_true, label_pred_classes)\n",
    "confusion_mtx"
   ]
  },
  {
   "cell_type": "code",
   "execution_count": 30,
   "id": "16fa5bc5",
   "metadata": {},
   "outputs": [
    {
     "data": {
      "text/plain": [
       "Text(0.5, 1.0, 'Confusion Matrix of MNIST dataset')"
      ]
     },
     "execution_count": 30,
     "metadata": {},
     "output_type": "execute_result"
    },
    {
     "data": {
      "text/plain": [
       "<Figure size 1000x1000 with 0 Axes>"
      ]
     },
     "metadata": {},
     "output_type": "display_data"
    },
    {
     "data": {
      "image/png": "[encoded data removed]",
      "text/plain": [
       "<Figure size 1000x700 with 2 Axes>"
      ]
     },
     "metadata": {},
     "output_type": "display_data"
    }
   ],
   "source": [
    "# Plot Confusion matrix\n",
    "import seaborn as sn\n",
    "fig = plt.figure(figsize=(10, 10))\n",
    "plt.figure(figsize = (10,7))\n",
    "# Creating a heapmap to display the confusion matrix\n",
    "hm=sn.heatmap(confusion_mtx, annot=True, fmt='d')\n",
    "hm.set_xticklabels(classes)\n",
    "hm.set_yticklabels(classes)\n",
    "hm.set_xlabel('Predicted Values',fontsize=15)\n",
    "hm.set_ylabel('True Values',fontsize=15)\n",
    "hm.set_title('Confusion Matrix of MNIST dataset',fontsize=20)"
   ]
  },
  {
   "cell_type": "markdown",
   "id": "7f8d546d",
   "metadata": {},
   "source": [
    "### 11.6. Summarize your results."
   ]
  },
  {
   "cell_type": "markdown",
   "id": "154d66c7",
   "metadata": {},
   "source": [
    "##### ***Summary of the steps to build the model:*** The MNIST dataset downloaded from keras contains 70000 images of hand written digits from 0 through 9.  Using the standard split, 60000 images were used for training and 10000 for testing. The data was first preprocessed by scaling the data so that the values are between 0 and 1 to avoid performance issues during training the model. Then the train and test labels were converted to binary values using One-hot encoding. While building the model, first a convolution layer was added with a 3x3 window. Then a max pooling layer of 2x2 was added. The same step was repeated again before the data was flattened to convert the convolutionary input into a format that is fed to fully connected layer. Finally a fully connected and output layer were added. As the output has 10 labels, softmax activation function was used.\n",
    "##### The model was then compiled using categorical crossentropy as Loss function, accuracy for evaluating the metrics and adam as the optimizer function. It took about ~ 2 minutes for the model to train the data.\n",
    "##### ***Accuracy and Confusion Matrix:*** The test results indicates that the model has an accuracy of 98.7% on the test dataset which is pretty close to perfection.  The results are also evident from the confusion matrix where the predicted errors were less. "
   ]
  }
 ],
 "metadata": {
  "kernelspec": {
   "display_name": "Python 3 (ipykernel)",
   "language": "python",
   "name": "python3"
  },
  "language_info": {
   "codemirror_mode": {
    "name": "ipython",
    "version": 3
   },
   "file_extension": ".py",
   "mimetype": "text/x-python",
   "name": "python",
   "nbconvert_exporter": "python",
   "pygments_lexer": "ipython3",
   "version": "3.9.13"
  },
  "toc": {
   "base_numbering": 1,
   "nav_menu": {},
   "number_sections": false,
   "sideBar": false,
   "skip_h1_title": true,
   "title_cell": "Table of Contents",
   "title_sidebar": "Contents",
   "toc_cell": true,
   "toc_position": {},
   "toc_section_display": true,
   "toc_window_display": true
  }
 },
 "nbformat": 4,
 "nbformat_minor": 5
}
